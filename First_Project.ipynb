{
  "nbformat": 4,
  "nbformat_minor": 0,
  "metadata": {
    "colab": {
      "provenance": [],
      "authorship_tag": "ABX9TyOQCALF8FcNhzJuFLbnwaQM",
      "include_colab_link": true
    },
    "kernelspec": {
      "name": "python3",
      "display_name": "Python 3"
    },
    "language_info": {
      "name": "python"
    }
  },
  "cells": [
    {
      "cell_type": "markdown",
      "metadata": {
        "id": "view-in-github",
        "colab_type": "text"
      },
      "source": [
        "<a href=\"https://colab.research.google.com/github/Tangguhd/tangguh-dwijayanto-portofolio/blob/main/First_Project.ipynb\" target=\"_parent\"><img src=\"https://colab.research.google.com/assets/colab-badge.svg\" alt=\"Open In Colab\"/></a>"
      ]
    },
    {
      "cell_type": "code",
      "execution_count": null,
      "metadata": {
        "cellView": "both",
        "colab": {
          "height": 39,
          "base_uri": "https://localhost:8080/"
        },
        "id": "odfM-_GxWbCy",
        "outputId": "37080283-9c62-4013-8068-ef897a54fa35"
      },
      "outputs": [
        {
          "output_type": "display_data",
          "data": {
            "text/plain": [
              "<IPython.core.display.HTML object>"
            ],
            "text/html": [
              "<marquee style='width: 50%; color: cyan;'><b>Hi, Welcome to my Notebook ^.^</b></marquee>\n"
            ]
          },
          "metadata": {}
        }
      ],
      "source": [
        "%%html\n",
        "<marquee style='width: 50%; color: cyan;'><b>Hi, Welcome to my Notebook ^.^</b></marquee>"
      ]
    },
    {
      "cell_type": "markdown",
      "source": [
        "# Hi, Welcome \n",
        "## Ini heading2\n",
        "### Ini Heading3\n",
        "ini text biasa\n",
        "1. List 1\n",
        "2. List 2\n",
        "3. List 3\n",
        "4. Dst...\n"
      ],
      "metadata": {
        "id": "brOgm4h5ECm-"
      }
    },
    {
      "cell_type": "code",
      "execution_count": null,
      "metadata": {
        "cellView": "both",
        "id": "zqGrv0blQSHj",
        "outputId": "ca955178-b8f8-4bc7-b7a9-07bbf224d609",
        "colab": {
          "base_uri": "https://localhost:8080/"
        }
      },
      "outputs": [
        {
          "output_type": "execute_result",
          "data": {
            "text/plain": [
              "['My Notebook is great!!',\n",
              " 'My Notebook is great!!',\n",
              " 'My Notebook is great!!',\n",
              " 'My Notebook is great!!']"
            ]
          },
          "metadata": {},
          "execution_count": 11
        }
      ],
      "source": [
        "# In https://github.com/ipython/ipython/pull/10545, single quote strings are ignored\n",
        "message = 'My Notebook is great!!'\n",
        "foo = !unset message && echo -e '{message}\\n{message}\\n'$message\"\\n$message\"\n",
        "foo"
      ]
    }
  ]
}